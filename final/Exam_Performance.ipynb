{
 "cells": [
  {
   "cell_type": "markdown",
   "metadata": {
    "id": "eCpx2GI_wnme"
   },
   "source": [
    "# Title: \"Exam Performance\"\n",
    "# Author: \"A.S., D.O.\"\n",
    "# Date: \"December 5, 2018\""
   ]
  },
  {
   "cell_type": "markdown",
   "metadata": {
    "id": "neeLYRqUt8Pw"
   },
   "source": [
    "## Dataset "
   ]
  },
  {
   "cell_type": "markdown",
   "metadata": {
    "id": "t7tJlRTztowW"
   },
   "source": [
    "\n",
    "This dataset found on kaggle was pulled from this website. It is theoretically \"exam scores for students at a public school\". However, there is an interesting disclaimer at the end that says \"All data sets are fictional and should be used for educational purposes only.\" : http://roycekimmons.com/tools/generated_data/exams\n"
   ]
  },
  {
   "cell_type": "markdown",
   "metadata": {
    "id": "v3j-tsME0X8-"
   },
   "source": [
    "## Install Packages"
   ]
  },
  {
   "cell_type": "code",
   "execution_count": 1,
   "metadata": {
    "colab": {
     "base_uri": "https://localhost:8080/"
    },
    "id": "_otznzKYyvVs",
    "outputId": "ce8e33cc-7d8e-4c61-f9ce-43fd437e7ab5"
   },
   "outputs": [
    {
     "name": "stderr",
     "output_type": "stream",
     "text": [
      "Installing package into 'C:/Users/denni/Documents/R/win-library/3.6'\n",
      "(as 'lib' is unspecified)\n"
     ]
    },
    {
     "name": "stdout",
     "output_type": "stream",
     "text": [
      "package 'tidyverse' successfully unpacked and MD5 sums checked\n"
     ]
    },
    {
     "ename": "ERROR",
     "evalue": "Error in unpackPkgZip(foundpkgs[okp, 2L], foundpkgs[okp, 1L], lib, libs_only, : ERROR: failed to lock directory 'C:\\Users\\denni\\Documents\\R\\win-library\\3.6' for modifying\nTry removing 'C:\\Users\\denni\\Documents\\R\\win-library\\3.6/00LOCK'\n",
     "output_type": "error",
     "traceback": [
      "Error in unpackPkgZip(foundpkgs[okp, 2L], foundpkgs[okp, 1L], lib, libs_only, : ERROR: failed to lock directory 'C:\\Users\\denni\\Documents\\R\\win-library\\3.6' for modifying\nTry removing 'C:\\Users\\denni\\Documents\\R\\win-library\\3.6/00LOCK'\nTraceback:\n",
      "1. install.packages(\"tidyverse\")",
      "2. .install.winbinary(pkgs = bins, lib = lib, contriburl = contrib.url(repos, \n .     type2), method = method, available = av2, destdir = destdir, \n .     dependencies = NULL, libs_only = libs_only, quiet = quiet, \n .     ...)",
      "3. unpackPkgZip(foundpkgs[okp, 2L], foundpkgs[okp, 1L], lib, libs_only, \n .     lock)",
      "4. stop(gettextf(\"ERROR: failed to lock directory %s for modifying\\nTry removing %s\", \n .     sQuote(lib), sQuote(lockdir)), domain = NA)"
     ]
    }
   ],
   "source": [
    "install.packages(\"tidyverse\")\n",
    "install.packages(\"dplyr\")\n",
    "install.packages(\"UsingR\", dependencies=TRUE)"
   ]
  },
  {
   "cell_type": "markdown",
   "metadata": {
    "id": "-f2pIPvGuHIS"
   },
   "source": [
    "## Package Load"
   ]
  },
  {
   "cell_type": "code",
   "execution_count": 3,
   "metadata": {
    "colab": {
     "base_uri": "https://localhost:8080/"
    },
    "id": "6JCpxW4_uv4D",
    "outputId": "f5d00f81-e5b0-4e98-f76d-91b71ef9cf1b"
   },
   "outputs": [],
   "source": [
    "library(dplyr)\n",
    "library(ggplot2)"
   ]
  },
  {
   "cell_type": "markdown",
   "metadata": {
    "id": "ReLRW4FUvO6K"
   },
   "source": [
    "## Load Data"
   ]
  },
  {
   "cell_type": "code",
   "execution_count": 4,
   "metadata": {
    "colab": {
     "base_uri": "https://localhost:8080/",
     "height": 129
    },
    "id": "ELkp1miG5A84",
    "outputId": "4795f997-b99d-4fc9-be28-57b934295ee7"
   },
   "outputs": [],
   "source": [
    "full <- read.csv(\"StudentsPerformance.csv\", header = TRUE)"
   ]
  },
  {
   "cell_type": "code",
   "execution_count": 5,
   "metadata": {
    "colab": {
     "base_uri": "https://localhost:8080/",
     "height": 214
    },
    "id": "jZdc1LClvN51",
    "outputId": "01bb215b-a4d1-4d01-ec61-27c3f7161fd8"
   },
   "outputs": [
    {
     "data": {
      "text/html": [
       "<ol class=list-inline>\n",
       "\t<li>1000</li>\n",
       "\t<li>8</li>\n",
       "</ol>\n"
      ],
      "text/latex": [
       "\\begin{enumerate*}\n",
       "\\item 1000\n",
       "\\item 8\n",
       "\\end{enumerate*}\n"
      ],
      "text/markdown": [
       "1. 1000\n",
       "2. 8\n",
       "\n",
       "\n"
      ],
      "text/plain": [
       "[1] 1000    8"
      ]
     },
     "metadata": {},
     "output_type": "display_data"
    },
    {
     "data": {
      "text/html": [
       "<table>\n",
       "<thead><tr><th scope=col>gender</th><th scope=col>race.ethnicity</th><th scope=col>parental.level.of.education</th><th scope=col>lunch</th><th scope=col>test.preparation.course</th><th scope=col>math.score</th><th scope=col>reading.score</th><th scope=col>writing.score</th></tr></thead>\n",
       "<tbody>\n",
       "\t<tr><td>female            </td><td>group B           </td><td>bachelor's degree </td><td>standard          </td><td>none              </td><td>72                </td><td>72                </td><td>74                </td></tr>\n",
       "\t<tr><td>female            </td><td>group C           </td><td>some college      </td><td>standard          </td><td>completed         </td><td>69                </td><td>90                </td><td>88                </td></tr>\n",
       "\t<tr><td>female            </td><td>group B           </td><td>master's degree   </td><td>standard          </td><td>none              </td><td>90                </td><td>95                </td><td>93                </td></tr>\n",
       "\t<tr><td>male              </td><td>group A           </td><td>associate's degree</td><td>free/reduced      </td><td>none              </td><td>47                </td><td>57                </td><td>44                </td></tr>\n",
       "\t<tr><td>male              </td><td>group C           </td><td>some college      </td><td>standard          </td><td>none              </td><td>76                </td><td>78                </td><td>75                </td></tr>\n",
       "\t<tr><td>female            </td><td>group B           </td><td>associate's degree</td><td>standard          </td><td>none              </td><td>71                </td><td>83                </td><td>78                </td></tr>\n",
       "</tbody>\n",
       "</table>\n"
      ],
      "text/latex": [
       "\\begin{tabular}{r|llllllll}\n",
       " gender & race.ethnicity & parental.level.of.education & lunch & test.preparation.course & math.score & reading.score & writing.score\\\\\n",
       "\\hline\n",
       "\t female             & group B            & bachelor's degree  & standard           & none               & 72                 & 72                 & 74                \\\\\n",
       "\t female             & group C            & some college       & standard           & completed          & 69                 & 90                 & 88                \\\\\n",
       "\t female             & group B            & master's degree    & standard           & none               & 90                 & 95                 & 93                \\\\\n",
       "\t male               & group A            & associate's degree & free/reduced       & none               & 47                 & 57                 & 44                \\\\\n",
       "\t male               & group C            & some college       & standard           & none               & 76                 & 78                 & 75                \\\\\n",
       "\t female             & group B            & associate's degree & standard           & none               & 71                 & 83                 & 78                \\\\\n",
       "\\end{tabular}\n"
      ],
      "text/markdown": [
       "\n",
       "| gender | race.ethnicity | parental.level.of.education | lunch | test.preparation.course | math.score | reading.score | writing.score |\n",
       "|---|---|---|---|---|---|---|---|\n",
       "| female             | group B            | bachelor's degree  | standard           | none               | 72                 | 72                 | 74                 |\n",
       "| female             | group C            | some college       | standard           | completed          | 69                 | 90                 | 88                 |\n",
       "| female             | group B            | master's degree    | standard           | none               | 90                 | 95                 | 93                 |\n",
       "| male               | group A            | associate's degree | free/reduced       | none               | 47                 | 57                 | 44                 |\n",
       "| male               | group C            | some college       | standard           | none               | 76                 | 78                 | 75                 |\n",
       "| female             | group B            | associate's degree | standard           | none               | 71                 | 83                 | 78                 |\n",
       "\n"
      ],
      "text/plain": [
       "  gender race.ethnicity parental.level.of.education lunch       \n",
       "1 female group B        bachelor's degree           standard    \n",
       "2 female group C        some college                standard    \n",
       "3 female group B        master's degree             standard    \n",
       "4 male   group A        associate's degree          free/reduced\n",
       "5 male   group C        some college                standard    \n",
       "6 female group B        associate's degree          standard    \n",
       "  test.preparation.course math.score reading.score writing.score\n",
       "1 none                    72         72            74           \n",
       "2 completed               69         90            88           \n",
       "3 none                    90         95            93           \n",
       "4 none                    47         57            44           \n",
       "5 none                    76         78            75           \n",
       "6 none                    71         83            78           "
      ]
     },
     "metadata": {},
     "output_type": "display_data"
    },
    {
     "name": "stdout",
     "output_type": "stream",
     "text": [
      "'data.frame':\t1000 obs. of  8 variables:\n",
      " $ gender                     : Factor w/ 2 levels \"female\",\"male\": 1 1 1 2 2 1 1 2 2 1 ...\n",
      " $ race.ethnicity             : Factor w/ 5 levels \"group A\",\"group B\",..: 2 3 2 1 3 2 2 2 4 2 ...\n",
      " $ parental.level.of.education: Factor w/ 6 levels \"associate's degree\",..: 2 5 4 1 5 1 5 5 3 3 ...\n",
      " $ lunch                      : Factor w/ 2 levels \"free/reduced\",..: 2 2 2 1 2 2 2 1 1 1 ...\n",
      " $ test.preparation.course    : Factor w/ 2 levels \"completed\",\"none\": 2 1 2 2 2 2 1 2 1 2 ...\n",
      " $ math.score                 : int  72 69 90 47 76 71 88 40 64 38 ...\n",
      " $ reading.score              : int  72 90 95 57 78 83 95 43 64 60 ...\n",
      " $ writing.score              : int  74 88 93 44 75 78 92 39 67 50 ...\n"
     ]
    }
   ],
   "source": [
    "full <- read.csv(\"StudentsPerformance.csv\", header = TRUE)\n",
    "dim(full)\n",
    "head(full)\n",
    "str(full)"
   ]
  },
  {
   "cell_type": "markdown",
   "metadata": {
    "id": "KG6tzCZ1vZQg"
   },
   "source": [
    "So it doesn't seem like this dataset is too big. It's a smaller sample, relatively speaking. 1000 isn't a copious amount."
   ]
  },
  {
   "cell_type": "markdown",
   "metadata": {
    "id": "M1OtBh6Jvgp9"
   },
   "source": [
    "We've got 5 indicators about people, their gender, their race (as described in a group, we don't know which correlate to which), their parents' level of education, their lunch situation (probably pointing to their financial situation), and whether they did a test prep course.\n",
    "\n"
   ]
  },
  {
   "cell_type": "markdown",
   "metadata": {
    "id": "AG7u1c9PvhFQ"
   },
   "source": [
    "To analyze, we have their writing, reading, and math scores."
   ]
  },
  {
   "cell_type": "markdown",
   "metadata": {
    "id": "rKr3-kxYvhq8"
   },
   "source": [
    "Null Hypothesis: There is no correction between total average exams and these co-variates.\n",
    "\n",
    "Alternative Hypothesis: At least one co-variable Correlates with total average exams."
   ]
  },
  {
   "cell_type": "markdown",
   "metadata": {
    "id": "H0bMQtkFwCRC"
   },
   "source": [
    "## Select Data"
   ]
  },
  {
   "cell_type": "code",
   "execution_count": 6,
   "metadata": {
    "id": "3BydfhiewDjy"
   },
   "outputs": [
    {
     "data": {
      "text/html": [
       "<ol class=list-inline>\n",
       "\t<li>'female'</li>\n",
       "\t<li>'male'</li>\n",
       "</ol>\n"
      ],
      "text/latex": [
       "\\begin{enumerate*}\n",
       "\\item 'female'\n",
       "\\item 'male'\n",
       "\\end{enumerate*}\n"
      ],
      "text/markdown": [
       "1. 'female'\n",
       "2. 'male'\n",
       "\n",
       "\n"
      ],
      "text/plain": [
       "[1] \"female\" \"male\"  "
      ]
     },
     "metadata": {},
     "output_type": "display_data"
    },
    {
     "data": {
      "text/html": [
       "<ol class=list-inline>\n",
       "\t<li>'group A'</li>\n",
       "\t<li>'group B'</li>\n",
       "\t<li>'group C'</li>\n",
       "\t<li>'group D'</li>\n",
       "\t<li>'group E'</li>\n",
       "</ol>\n"
      ],
      "text/latex": [
       "\\begin{enumerate*}\n",
       "\\item 'group A'\n",
       "\\item 'group B'\n",
       "\\item 'group C'\n",
       "\\item 'group D'\n",
       "\\item 'group E'\n",
       "\\end{enumerate*}\n"
      ],
      "text/markdown": [
       "1. 'group A'\n",
       "2. 'group B'\n",
       "3. 'group C'\n",
       "4. 'group D'\n",
       "5. 'group E'\n",
       "\n",
       "\n"
      ],
      "text/plain": [
       "[1] \"group A\" \"group B\" \"group C\" \"group D\" \"group E\""
      ]
     },
     "metadata": {},
     "output_type": "display_data"
    },
    {
     "data": {
      "text/html": [
       "<ol class=list-inline>\n",
       "\t<li>'associate\\'s degree'</li>\n",
       "\t<li>'bachelor\\'s degree'</li>\n",
       "\t<li>'high school'</li>\n",
       "\t<li>'master\\'s degree'</li>\n",
       "\t<li>'some college'</li>\n",
       "\t<li>'some high school'</li>\n",
       "</ol>\n"
      ],
      "text/latex": [
       "\\begin{enumerate*}\n",
       "\\item 'associate\\textbackslash{}'s degree'\n",
       "\\item 'bachelor\\textbackslash{}'s degree'\n",
       "\\item 'high school'\n",
       "\\item 'master\\textbackslash{}'s degree'\n",
       "\\item 'some college'\n",
       "\\item 'some high school'\n",
       "\\end{enumerate*}\n"
      ],
      "text/markdown": [
       "1. 'associate\\'s degree'\n",
       "2. 'bachelor\\'s degree'\n",
       "3. 'high school'\n",
       "4. 'master\\'s degree'\n",
       "5. 'some college'\n",
       "6. 'some high school'\n",
       "\n",
       "\n"
      ],
      "text/plain": [
       "[1] \"associate's degree\" \"bachelor's degree\"  \"high school\"       \n",
       "[4] \"master's degree\"    \"some college\"       \"some high school\"  "
      ]
     },
     "metadata": {},
     "output_type": "display_data"
    },
    {
     "data": {
      "text/html": [
       "<ol class=list-inline>\n",
       "\t<li>'free/reduced'</li>\n",
       "\t<li>'standard'</li>\n",
       "</ol>\n"
      ],
      "text/latex": [
       "\\begin{enumerate*}\n",
       "\\item 'free/reduced'\n",
       "\\item 'standard'\n",
       "\\end{enumerate*}\n"
      ],
      "text/markdown": [
       "1. 'free/reduced'\n",
       "2. 'standard'\n",
       "\n",
       "\n"
      ],
      "text/plain": [
       "[1] \"free/reduced\" \"standard\"    "
      ]
     },
     "metadata": {},
     "output_type": "display_data"
    },
    {
     "data": {
      "text/html": [
       "<ol class=list-inline>\n",
       "\t<li>'completed'</li>\n",
       "\t<li>'none'</li>\n",
       "</ol>\n"
      ],
      "text/latex": [
       "\\begin{enumerate*}\n",
       "\\item 'completed'\n",
       "\\item 'none'\n",
       "\\end{enumerate*}\n"
      ],
      "text/markdown": [
       "1. 'completed'\n",
       "2. 'none'\n",
       "\n",
       "\n"
      ],
      "text/plain": [
       "[1] \"completed\" \"none\"     "
      ]
     },
     "metadata": {},
     "output_type": "display_data"
    },
    {
     "data": {
      "text/html": [
       "<table>\n",
       "<thead><tr><th scope=col>gender</th><th scope=col>race.ethnicity</th><th scope=col>parental.level.of.education</th><th scope=col>lunch</th><th scope=col>test.preparation.course</th><th scope=col>math.score</th><th scope=col>reading.score</th><th scope=col>writing.score</th><th scope=col>mean_exams</th></tr></thead>\n",
       "<tbody>\n",
       "\t<tr><td>female            </td><td>group B           </td><td>bachelor's degree </td><td>standard          </td><td>none              </td><td>72                </td><td>72                </td><td>74                </td><td>72.66667          </td></tr>\n",
       "\t<tr><td>female            </td><td>group C           </td><td>some college      </td><td>standard          </td><td>completed         </td><td>69                </td><td>90                </td><td>88                </td><td>82.33333          </td></tr>\n",
       "\t<tr><td>female            </td><td>group B           </td><td>master's degree   </td><td>standard          </td><td>none              </td><td>90                </td><td>95                </td><td>93                </td><td>92.66667          </td></tr>\n",
       "\t<tr><td>male              </td><td>group A           </td><td>associate's degree</td><td>free/reduced      </td><td>none              </td><td>47                </td><td>57                </td><td>44                </td><td>49.33333          </td></tr>\n",
       "\t<tr><td>male              </td><td>group C           </td><td>some college      </td><td>standard          </td><td>none              </td><td>76                </td><td>78                </td><td>75                </td><td>76.33333          </td></tr>\n",
       "\t<tr><td>female            </td><td>group B           </td><td>associate's degree</td><td>standard          </td><td>none              </td><td>71                </td><td>83                </td><td>78                </td><td>77.33333          </td></tr>\n",
       "</tbody>\n",
       "</table>\n"
      ],
      "text/latex": [
       "\\begin{tabular}{r|lllllllll}\n",
       " gender & race.ethnicity & parental.level.of.education & lunch & test.preparation.course & math.score & reading.score & writing.score & mean\\_exams\\\\\n",
       "\\hline\n",
       "\t female             & group B            & bachelor's degree  & standard           & none               & 72                 & 72                 & 74                 & 72.66667          \\\\\n",
       "\t female             & group C            & some college       & standard           & completed          & 69                 & 90                 & 88                 & 82.33333          \\\\\n",
       "\t female             & group B            & master's degree    & standard           & none               & 90                 & 95                 & 93                 & 92.66667          \\\\\n",
       "\t male               & group A            & associate's degree & free/reduced       & none               & 47                 & 57                 & 44                 & 49.33333          \\\\\n",
       "\t male               & group C            & some college       & standard           & none               & 76                 & 78                 & 75                 & 76.33333          \\\\\n",
       "\t female             & group B            & associate's degree & standard           & none               & 71                 & 83                 & 78                 & 77.33333          \\\\\n",
       "\\end{tabular}\n"
      ],
      "text/markdown": [
       "\n",
       "| gender | race.ethnicity | parental.level.of.education | lunch | test.preparation.course | math.score | reading.score | writing.score | mean_exams |\n",
       "|---|---|---|---|---|---|---|---|---|\n",
       "| female             | group B            | bachelor's degree  | standard           | none               | 72                 | 72                 | 74                 | 72.66667           |\n",
       "| female             | group C            | some college       | standard           | completed          | 69                 | 90                 | 88                 | 82.33333           |\n",
       "| female             | group B            | master's degree    | standard           | none               | 90                 | 95                 | 93                 | 92.66667           |\n",
       "| male               | group A            | associate's degree | free/reduced       | none               | 47                 | 57                 | 44                 | 49.33333           |\n",
       "| male               | group C            | some college       | standard           | none               | 76                 | 78                 | 75                 | 76.33333           |\n",
       "| female             | group B            | associate's degree | standard           | none               | 71                 | 83                 | 78                 | 77.33333           |\n",
       "\n"
      ],
      "text/plain": [
       "  gender race.ethnicity parental.level.of.education lunch       \n",
       "1 female group B        bachelor's degree           standard    \n",
       "2 female group C        some college                standard    \n",
       "3 female group B        master's degree             standard    \n",
       "4 male   group A        associate's degree          free/reduced\n",
       "5 male   group C        some college                standard    \n",
       "6 female group B        associate's degree          standard    \n",
       "  test.preparation.course math.score reading.score writing.score mean_exams\n",
       "1 none                    72         72            74            72.66667  \n",
       "2 completed               69         90            88            82.33333  \n",
       "3 none                    90         95            93            92.66667  \n",
       "4 none                    47         57            44            49.33333  \n",
       "5 none                    76         78            75            76.33333  \n",
       "6 none                    71         83            78            77.33333  "
      ]
     },
     "metadata": {},
     "output_type": "display_data"
    }
   ],
   "source": [
    "math_score <- full$math.score\n",
    "ave_math <- mean(math_score)\n",
    "reading_score <- full$reading.score\n",
    "ave_reading <- mean(reading_score)\n",
    "writing_score <- full$writing.score\n",
    "ave_writing <- mean(writing_score)\n",
    "levels(full$gender)\n",
    "levels(full$race.ethnicity)\n",
    "levels(full$parental.level.of.education)\n",
    "levels(full$lunch)\n",
    "levels(full$test.preparation.course)\n",
    "all_exams <- ((math_score+reading_score+writing_score)/3)\n",
    "full2 <- mutate(full,mean_exams = all_exams)\n",
    "head(full2)"
   ]
  },
  {
   "cell_type": "markdown",
   "metadata": {
    "id": "UxFo0zv0w11P"
   },
   "source": [
    "## Highest Scores and Lowest scores"
   ]
  },
  {
   "cell_type": "code",
   "execution_count": 7,
   "metadata": {
    "id": "fnMHwoQGw6iX"
   },
   "outputs": [
    {
     "data": {
      "text/html": [
       "free/reduced\n",
       "<details>\n",
       "\t<summary style=display:list-item;cursor:pointer>\n",
       "\t\t<strong>Levels</strong>:\n",
       "\t</summary>\n",
       "\t<ol class=list-inline>\n",
       "\t\t<li>'free/reduced'</li>\n",
       "\t\t<li>'standard'</li>\n",
       "\t</ol>\n",
       "</details>"
      ],
      "text/latex": [
       "free/reduced\n",
       "\\emph{Levels}: \\begin{enumerate*}\n",
       "\\item 'free/reduced'\n",
       "\\item 'standard'\n",
       "\\end{enumerate*}\n"
      ],
      "text/markdown": [
       "free/reduced\n",
       "**Levels**: 1. 'free/reduced'\n",
       "2. 'standard'\n",
       "\n",
       "\n"
      ],
      "text/plain": [
       "[1] free/reduced\n",
       "Levels: free/reduced standard"
      ]
     },
     "metadata": {},
     "output_type": "display_data"
    },
    {
     "data": {
      "text/html": [
       "some high school\n",
       "<details>\n",
       "\t<summary style=display:list-item;cursor:pointer>\n",
       "\t\t<strong>Levels</strong>:\n",
       "\t</summary>\n",
       "\t<ol class=list-inline>\n",
       "\t\t<li>'associate\\'s degree'</li>\n",
       "\t\t<li>'bachelor\\'s degree'</li>\n",
       "\t\t<li>'high school'</li>\n",
       "\t\t<li>'master\\'s degree'</li>\n",
       "\t\t<li>'some college'</li>\n",
       "\t\t<li>'some high school'</li>\n",
       "\t</ol>\n",
       "</details>"
      ],
      "text/latex": [
       "some high school\n",
       "\\emph{Levels}: \\begin{enumerate*}\n",
       "\\item 'associate\\textbackslash{}'s degree'\n",
       "\\item 'bachelor\\textbackslash{}'s degree'\n",
       "\\item 'high school'\n",
       "\\item 'master\\textbackslash{}'s degree'\n",
       "\\item 'some college'\n",
       "\\item 'some high school'\n",
       "\\end{enumerate*}\n"
      ],
      "text/markdown": [
       "some high school\n",
       "**Levels**: 1. 'associate\\'s degree'\n",
       "2. 'bachelor\\'s degree'\n",
       "3. 'high school'\n",
       "4. 'master\\'s degree'\n",
       "5. 'some college'\n",
       "6. 'some high school'\n",
       "\n",
       "\n"
      ],
      "text/plain": [
       "[1] some high school\n",
       "6 Levels: associate's degree bachelor's degree high school ... some high school"
      ]
     },
     "metadata": {},
     "output_type": "display_data"
    },
    {
     "data": {
      "text/html": [
       "none\n",
       "<details>\n",
       "\t<summary style=display:list-item;cursor:pointer>\n",
       "\t\t<strong>Levels</strong>:\n",
       "\t</summary>\n",
       "\t<ol class=list-inline>\n",
       "\t\t<li>'completed'</li>\n",
       "\t\t<li>'none'</li>\n",
       "\t</ol>\n",
       "</details>"
      ],
      "text/latex": [
       "none\n",
       "\\emph{Levels}: \\begin{enumerate*}\n",
       "\\item 'completed'\n",
       "\\item 'none'\n",
       "\\end{enumerate*}\n"
      ],
      "text/markdown": [
       "none\n",
       "**Levels**: 1. 'completed'\n",
       "2. 'none'\n",
       "\n",
       "\n"
      ],
      "text/plain": [
       "[1] none\n",
       "Levels: completed none"
      ]
     },
     "metadata": {},
     "output_type": "display_data"
    },
    {
     "data": {
      "text/html": [
       "female\n",
       "<details>\n",
       "\t<summary style=display:list-item;cursor:pointer>\n",
       "\t\t<strong>Levels</strong>:\n",
       "\t</summary>\n",
       "\t<ol class=list-inline>\n",
       "\t\t<li>'female'</li>\n",
       "\t\t<li>'male'</li>\n",
       "\t</ol>\n",
       "</details>"
      ],
      "text/latex": [
       "female\n",
       "\\emph{Levels}: \\begin{enumerate*}\n",
       "\\item 'female'\n",
       "\\item 'male'\n",
       "\\end{enumerate*}\n"
      ],
      "text/markdown": [
       "female\n",
       "**Levels**: 1. 'female'\n",
       "2. 'male'\n",
       "\n",
       "\n"
      ],
      "text/plain": [
       "[1] female\n",
       "Levels: female male"
      ]
     },
     "metadata": {},
     "output_type": "display_data"
    },
    {
     "data": {
      "text/html": [
       "free/reduced\n",
       "<details>\n",
       "\t<summary style=display:list-item;cursor:pointer>\n",
       "\t\t<strong>Levels</strong>:\n",
       "\t</summary>\n",
       "\t<ol class=list-inline>\n",
       "\t\t<li>'free/reduced'</li>\n",
       "\t\t<li>'standard'</li>\n",
       "\t</ol>\n",
       "</details>"
      ],
      "text/latex": [
       "free/reduced\n",
       "\\emph{Levels}: \\begin{enumerate*}\n",
       "\\item 'free/reduced'\n",
       "\\item 'standard'\n",
       "\\end{enumerate*}\n"
      ],
      "text/markdown": [
       "free/reduced\n",
       "**Levels**: 1. 'free/reduced'\n",
       "2. 'standard'\n",
       "\n",
       "\n"
      ],
      "text/plain": [
       "[1] free/reduced\n",
       "Levels: free/reduced standard"
      ]
     },
     "metadata": {},
     "output_type": "display_data"
    },
    {
     "data": {
      "text/html": [
       "associate's degree\n",
       "<details>\n",
       "\t<summary style=display:list-item;cursor:pointer>\n",
       "\t\t<strong>Levels</strong>:\n",
       "\t</summary>\n",
       "\t<ol class=list-inline>\n",
       "\t\t<li>'associate\\'s degree'</li>\n",
       "\t\t<li>'bachelor\\'s degree'</li>\n",
       "\t\t<li>'high school'</li>\n",
       "\t\t<li>'master\\'s degree'</li>\n",
       "\t\t<li>'some college'</li>\n",
       "\t\t<li>'some high school'</li>\n",
       "\t</ol>\n",
       "</details>"
      ],
      "text/latex": [
       "associate's degree\n",
       "\\emph{Levels}: \\begin{enumerate*}\n",
       "\\item 'associate\\textbackslash{}'s degree'\n",
       "\\item 'bachelor\\textbackslash{}'s degree'\n",
       "\\item 'high school'\n",
       "\\item 'master\\textbackslash{}'s degree'\n",
       "\\item 'some college'\n",
       "\\item 'some high school'\n",
       "\\end{enumerate*}\n"
      ],
      "text/markdown": [
       "associate's degree\n",
       "**Levels**: 1. 'associate\\'s degree'\n",
       "2. 'bachelor\\'s degree'\n",
       "3. 'high school'\n",
       "4. 'master\\'s degree'\n",
       "5. 'some college'\n",
       "6. 'some high school'\n",
       "\n",
       "\n"
      ],
      "text/plain": [
       "[1] associate's degree\n",
       "6 Levels: associate's degree bachelor's degree high school ... some high school"
      ]
     },
     "metadata": {},
     "output_type": "display_data"
    },
    {
     "data": {
      "text/html": [
       "completed\n",
       "<details>\n",
       "\t<summary style=display:list-item;cursor:pointer>\n",
       "\t\t<strong>Levels</strong>:\n",
       "\t</summary>\n",
       "\t<ol class=list-inline>\n",
       "\t\t<li>'completed'</li>\n",
       "\t\t<li>'none'</li>\n",
       "\t</ol>\n",
       "</details>"
      ],
      "text/latex": [
       "completed\n",
       "\\emph{Levels}: \\begin{enumerate*}\n",
       "\\item 'completed'\n",
       "\\item 'none'\n",
       "\\end{enumerate*}\n"
      ],
      "text/markdown": [
       "completed\n",
       "**Levels**: 1. 'completed'\n",
       "2. 'none'\n",
       "\n",
       "\n"
      ],
      "text/plain": [
       "[1] completed\n",
       "Levels: completed none"
      ]
     },
     "metadata": {},
     "output_type": "display_data"
    },
    {
     "data": {
      "text/html": [
       "male\n",
       "<details>\n",
       "\t<summary style=display:list-item;cursor:pointer>\n",
       "\t\t<strong>Levels</strong>:\n",
       "\t</summary>\n",
       "\t<ol class=list-inline>\n",
       "\t\t<li>'female'</li>\n",
       "\t\t<li>'male'</li>\n",
       "\t</ol>\n",
       "</details>"
      ],
      "text/latex": [
       "male\n",
       "\\emph{Levels}: \\begin{enumerate*}\n",
       "\\item 'female'\n",
       "\\item 'male'\n",
       "\\end{enumerate*}\n"
      ],
      "text/markdown": [
       "male\n",
       "**Levels**: 1. 'female'\n",
       "2. 'male'\n",
       "\n",
       "\n"
      ],
      "text/plain": [
       "[1] male\n",
       "Levels: female male"
      ]
     },
     "metadata": {},
     "output_type": "display_data"
    }
   ],
   "source": [
    "#Math\n",
    "i_mathmin <- which.min(math_score)\n",
    "full$lunch[i_mathmin]\n",
    "full$parental.level.of.education[i_mathmin]\n",
    "full$test.preparation.course[i_mathmin]\n",
    "full$gender[i_mathmin]\n",
    "i_mathmax <- which.max(math_score)\n",
    "full$lunch[i_mathmax]\n",
    "full$parental.level.of.education[i_mathmax]\n",
    "full$test.preparation.course[i_mathmax]\n",
    "full$gender[i_mathmax]"
   ]
  },
  {
   "cell_type": "code",
   "execution_count": 8,
   "metadata": {
    "id": "2a4DZaBRxCTj"
   },
   "outputs": [
    {
     "data": {
      "text/html": [
       "free/reduced\n",
       "<details>\n",
       "\t<summary style=display:list-item;cursor:pointer>\n",
       "\t\t<strong>Levels</strong>:\n",
       "\t</summary>\n",
       "\t<ol class=list-inline>\n",
       "\t\t<li>'free/reduced'</li>\n",
       "\t\t<li>'standard'</li>\n",
       "\t</ol>\n",
       "</details>"
      ],
      "text/latex": [
       "free/reduced\n",
       "\\emph{Levels}: \\begin{enumerate*}\n",
       "\\item 'free/reduced'\n",
       "\\item 'standard'\n",
       "\\end{enumerate*}\n"
      ],
      "text/markdown": [
       "free/reduced\n",
       "**Levels**: 1. 'free/reduced'\n",
       "2. 'standard'\n",
       "\n",
       "\n"
      ],
      "text/plain": [
       "[1] free/reduced\n",
       "Levels: free/reduced standard"
      ]
     },
     "metadata": {},
     "output_type": "display_data"
    },
    {
     "data": {
      "text/html": [
       "some high school\n",
       "<details>\n",
       "\t<summary style=display:list-item;cursor:pointer>\n",
       "\t\t<strong>Levels</strong>:\n",
       "\t</summary>\n",
       "\t<ol class=list-inline>\n",
       "\t\t<li>'associate\\'s degree'</li>\n",
       "\t\t<li>'bachelor\\'s degree'</li>\n",
       "\t\t<li>'high school'</li>\n",
       "\t\t<li>'master\\'s degree'</li>\n",
       "\t\t<li>'some college'</li>\n",
       "\t\t<li>'some high school'</li>\n",
       "\t</ol>\n",
       "</details>"
      ],
      "text/latex": [
       "some high school\n",
       "\\emph{Levels}: \\begin{enumerate*}\n",
       "\\item 'associate\\textbackslash{}'s degree'\n",
       "\\item 'bachelor\\textbackslash{}'s degree'\n",
       "\\item 'high school'\n",
       "\\item 'master\\textbackslash{}'s degree'\n",
       "\\item 'some college'\n",
       "\\item 'some high school'\n",
       "\\end{enumerate*}\n"
      ],
      "text/markdown": [
       "some high school\n",
       "**Levels**: 1. 'associate\\'s degree'\n",
       "2. 'bachelor\\'s degree'\n",
       "3. 'high school'\n",
       "4. 'master\\'s degree'\n",
       "5. 'some college'\n",
       "6. 'some high school'\n",
       "\n",
       "\n"
      ],
      "text/plain": [
       "[1] some high school\n",
       "6 Levels: associate's degree bachelor's degree high school ... some high school"
      ]
     },
     "metadata": {},
     "output_type": "display_data"
    },
    {
     "data": {
      "text/html": [
       "none\n",
       "<details>\n",
       "\t<summary style=display:list-item;cursor:pointer>\n",
       "\t\t<strong>Levels</strong>:\n",
       "\t</summary>\n",
       "\t<ol class=list-inline>\n",
       "\t\t<li>'completed'</li>\n",
       "\t\t<li>'none'</li>\n",
       "\t</ol>\n",
       "</details>"
      ],
      "text/latex": [
       "none\n",
       "\\emph{Levels}: \\begin{enumerate*}\n",
       "\\item 'completed'\n",
       "\\item 'none'\n",
       "\\end{enumerate*}\n"
      ],
      "text/markdown": [
       "none\n",
       "**Levels**: 1. 'completed'\n",
       "2. 'none'\n",
       "\n",
       "\n"
      ],
      "text/plain": [
       "[1] none\n",
       "Levels: completed none"
      ]
     },
     "metadata": {},
     "output_type": "display_data"
    },
    {
     "data": {
      "text/html": [
       "female\n",
       "<details>\n",
       "\t<summary style=display:list-item;cursor:pointer>\n",
       "\t\t<strong>Levels</strong>:\n",
       "\t</summary>\n",
       "\t<ol class=list-inline>\n",
       "\t\t<li>'female'</li>\n",
       "\t\t<li>'male'</li>\n",
       "\t</ol>\n",
       "</details>"
      ],
      "text/latex": [
       "female\n",
       "\\emph{Levels}: \\begin{enumerate*}\n",
       "\\item 'female'\n",
       "\\item 'male'\n",
       "\\end{enumerate*}\n"
      ],
      "text/markdown": [
       "female\n",
       "**Levels**: 1. 'female'\n",
       "2. 'male'\n",
       "\n",
       "\n"
      ],
      "text/plain": [
       "[1] female\n",
       "Levels: female male"
      ]
     },
     "metadata": {},
     "output_type": "display_data"
    },
    {
     "data": {
      "text/html": [
       "standard\n",
       "<details>\n",
       "\t<summary style=display:list-item;cursor:pointer>\n",
       "\t\t<strong>Levels</strong>:\n",
       "\t</summary>\n",
       "\t<ol class=list-inline>\n",
       "\t\t<li>'free/reduced'</li>\n",
       "\t\t<li>'standard'</li>\n",
       "\t</ol>\n",
       "</details>"
      ],
      "text/latex": [
       "standard\n",
       "\\emph{Levels}: \\begin{enumerate*}\n",
       "\\item 'free/reduced'\n",
       "\\item 'standard'\n",
       "\\end{enumerate*}\n"
      ],
      "text/markdown": [
       "standard\n",
       "**Levels**: 1. 'free/reduced'\n",
       "2. 'standard'\n",
       "\n",
       "\n"
      ],
      "text/plain": [
       "[1] standard\n",
       "Levels: free/reduced standard"
      ]
     },
     "metadata": {},
     "output_type": "display_data"
    },
    {
     "data": {
      "text/html": [
       "master's degree\n",
       "<details>\n",
       "\t<summary style=display:list-item;cursor:pointer>\n",
       "\t\t<strong>Levels</strong>:\n",
       "\t</summary>\n",
       "\t<ol class=list-inline>\n",
       "\t\t<li>'associate\\'s degree'</li>\n",
       "\t\t<li>'bachelor\\'s degree'</li>\n",
       "\t\t<li>'high school'</li>\n",
       "\t\t<li>'master\\'s degree'</li>\n",
       "\t\t<li>'some college'</li>\n",
       "\t\t<li>'some high school'</li>\n",
       "\t</ol>\n",
       "</details>"
      ],
      "text/latex": [
       "master's degree\n",
       "\\emph{Levels}: \\begin{enumerate*}\n",
       "\\item 'associate\\textbackslash{}'s degree'\n",
       "\\item 'bachelor\\textbackslash{}'s degree'\n",
       "\\item 'high school'\n",
       "\\item 'master\\textbackslash{}'s degree'\n",
       "\\item 'some college'\n",
       "\\item 'some high school'\n",
       "\\end{enumerate*}\n"
      ],
      "text/markdown": [
       "master's degree\n",
       "**Levels**: 1. 'associate\\'s degree'\n",
       "2. 'bachelor\\'s degree'\n",
       "3. 'high school'\n",
       "4. 'master\\'s degree'\n",
       "5. 'some college'\n",
       "6. 'some high school'\n",
       "\n",
       "\n"
      ],
      "text/plain": [
       "[1] master's degree\n",
       "6 Levels: associate's degree bachelor's degree high school ... some high school"
      ]
     },
     "metadata": {},
     "output_type": "display_data"
    },
    {
     "data": {
      "text/html": [
       "none\n",
       "<details>\n",
       "\t<summary style=display:list-item;cursor:pointer>\n",
       "\t\t<strong>Levels</strong>:\n",
       "\t</summary>\n",
       "\t<ol class=list-inline>\n",
       "\t\t<li>'completed'</li>\n",
       "\t\t<li>'none'</li>\n",
       "\t</ol>\n",
       "</details>"
      ],
      "text/latex": [
       "none\n",
       "\\emph{Levels}: \\begin{enumerate*}\n",
       "\\item 'completed'\n",
       "\\item 'none'\n",
       "\\end{enumerate*}\n"
      ],
      "text/markdown": [
       "none\n",
       "**Levels**: 1. 'completed'\n",
       "2. 'none'\n",
       "\n",
       "\n"
      ],
      "text/plain": [
       "[1] none\n",
       "Levels: completed none"
      ]
     },
     "metadata": {},
     "output_type": "display_data"
    },
    {
     "data": {
      "text/html": [
       "female\n",
       "<details>\n",
       "\t<summary style=display:list-item;cursor:pointer>\n",
       "\t\t<strong>Levels</strong>:\n",
       "\t</summary>\n",
       "\t<ol class=list-inline>\n",
       "\t\t<li>'female'</li>\n",
       "\t\t<li>'male'</li>\n",
       "\t</ol>\n",
       "</details>"
      ],
      "text/latex": [
       "female\n",
       "\\emph{Levels}: \\begin{enumerate*}\n",
       "\\item 'female'\n",
       "\\item 'male'\n",
       "\\end{enumerate*}\n"
      ],
      "text/markdown": [
       "female\n",
       "**Levels**: 1. 'female'\n",
       "2. 'male'\n",
       "\n",
       "\n"
      ],
      "text/plain": [
       "[1] female\n",
       "Levels: female male"
      ]
     },
     "metadata": {},
     "output_type": "display_data"
    }
   ],
   "source": [
    "#Reading\n",
    "i_readmin <- which.min(reading_score)\n",
    "full$lunch[i_readmin]\n",
    "full$parental.level.of.education[i_readmin]\n",
    "full$test.preparation.course[i_readmin]\n",
    "full$gender[i_readmin]\n",
    "i_readmax <- which.max(reading_score)\n",
    "full$lunch[i_readmax]\n",
    "full$parental.level.of.education[i_readmax]\n",
    "full$test.preparation.course[i_readmax]\n",
    "full$gender[i_readmax]"
   ]
  },
  {
   "cell_type": "code",
   "execution_count": 9,
   "metadata": {
    "id": "Kyb0jk_CxC5r"
   },
   "outputs": [
    {
     "data": {
      "text/html": [
       "free/reduced\n",
       "<details>\n",
       "\t<summary style=display:list-item;cursor:pointer>\n",
       "\t\t<strong>Levels</strong>:\n",
       "\t</summary>\n",
       "\t<ol class=list-inline>\n",
       "\t\t<li>'free/reduced'</li>\n",
       "\t\t<li>'standard'</li>\n",
       "\t</ol>\n",
       "</details>"
      ],
      "text/latex": [
       "free/reduced\n",
       "\\emph{Levels}: \\begin{enumerate*}\n",
       "\\item 'free/reduced'\n",
       "\\item 'standard'\n",
       "\\end{enumerate*}\n"
      ],
      "text/markdown": [
       "free/reduced\n",
       "**Levels**: 1. 'free/reduced'\n",
       "2. 'standard'\n",
       "\n",
       "\n"
      ],
      "text/plain": [
       "[1] free/reduced\n",
       "Levels: free/reduced standard"
      ]
     },
     "metadata": {},
     "output_type": "display_data"
    },
    {
     "data": {
      "text/html": [
       "some high school\n",
       "<details>\n",
       "\t<summary style=display:list-item;cursor:pointer>\n",
       "\t\t<strong>Levels</strong>:\n",
       "\t</summary>\n",
       "\t<ol class=list-inline>\n",
       "\t\t<li>'associate\\'s degree'</li>\n",
       "\t\t<li>'bachelor\\'s degree'</li>\n",
       "\t\t<li>'high school'</li>\n",
       "\t\t<li>'master\\'s degree'</li>\n",
       "\t\t<li>'some college'</li>\n",
       "\t\t<li>'some high school'</li>\n",
       "\t</ol>\n",
       "</details>"
      ],
      "text/latex": [
       "some high school\n",
       "\\emph{Levels}: \\begin{enumerate*}\n",
       "\\item 'associate\\textbackslash{}'s degree'\n",
       "\\item 'bachelor\\textbackslash{}'s degree'\n",
       "\\item 'high school'\n",
       "\\item 'master\\textbackslash{}'s degree'\n",
       "\\item 'some college'\n",
       "\\item 'some high school'\n",
       "\\end{enumerate*}\n"
      ],
      "text/markdown": [
       "some high school\n",
       "**Levels**: 1. 'associate\\'s degree'\n",
       "2. 'bachelor\\'s degree'\n",
       "3. 'high school'\n",
       "4. 'master\\'s degree'\n",
       "5. 'some college'\n",
       "6. 'some high school'\n",
       "\n",
       "\n"
      ],
      "text/plain": [
       "[1] some high school\n",
       "6 Levels: associate's degree bachelor's degree high school ... some high school"
      ]
     },
     "metadata": {},
     "output_type": "display_data"
    },
    {
     "data": {
      "text/html": [
       "none\n",
       "<details>\n",
       "\t<summary style=display:list-item;cursor:pointer>\n",
       "\t\t<strong>Levels</strong>:\n",
       "\t</summary>\n",
       "\t<ol class=list-inline>\n",
       "\t\t<li>'completed'</li>\n",
       "\t\t<li>'none'</li>\n",
       "\t</ol>\n",
       "</details>"
      ],
      "text/latex": [
       "none\n",
       "\\emph{Levels}: \\begin{enumerate*}\n",
       "\\item 'completed'\n",
       "\\item 'none'\n",
       "\\end{enumerate*}\n"
      ],
      "text/markdown": [
       "none\n",
       "**Levels**: 1. 'completed'\n",
       "2. 'none'\n",
       "\n",
       "\n"
      ],
      "text/plain": [
       "[1] none\n",
       "Levels: completed none"
      ]
     },
     "metadata": {},
     "output_type": "display_data"
    },
    {
     "data": {
      "text/html": [
       "female\n",
       "<details>\n",
       "\t<summary style=display:list-item;cursor:pointer>\n",
       "\t\t<strong>Levels</strong>:\n",
       "\t</summary>\n",
       "\t<ol class=list-inline>\n",
       "\t\t<li>'female'</li>\n",
       "\t\t<li>'male'</li>\n",
       "\t</ol>\n",
       "</details>"
      ],
      "text/latex": [
       "female\n",
       "\\emph{Levels}: \\begin{enumerate*}\n",
       "\\item 'female'\n",
       "\\item 'male'\n",
       "\\end{enumerate*}\n"
      ],
      "text/markdown": [
       "female\n",
       "**Levels**: 1. 'female'\n",
       "2. 'male'\n",
       "\n",
       "\n"
      ],
      "text/plain": [
       "[1] female\n",
       "Levels: female male"
      ]
     },
     "metadata": {},
     "output_type": "display_data"
    },
    {
     "data": {
      "text/html": [
       "standard\n",
       "<details>\n",
       "\t<summary style=display:list-item;cursor:pointer>\n",
       "\t\t<strong>Levels</strong>:\n",
       "\t</summary>\n",
       "\t<ol class=list-inline>\n",
       "\t\t<li>'free/reduced'</li>\n",
       "\t\t<li>'standard'</li>\n",
       "\t</ol>\n",
       "</details>"
      ],
      "text/latex": [
       "standard\n",
       "\\emph{Levels}: \\begin{enumerate*}\n",
       "\\item 'free/reduced'\n",
       "\\item 'standard'\n",
       "\\end{enumerate*}\n"
      ],
      "text/markdown": [
       "standard\n",
       "**Levels**: 1. 'free/reduced'\n",
       "2. 'standard'\n",
       "\n",
       "\n"
      ],
      "text/plain": [
       "[1] standard\n",
       "Levels: free/reduced standard"
      ]
     },
     "metadata": {},
     "output_type": "display_data"
    },
    {
     "data": {
      "text/html": [
       "master's degree\n",
       "<details>\n",
       "\t<summary style=display:list-item;cursor:pointer>\n",
       "\t\t<strong>Levels</strong>:\n",
       "\t</summary>\n",
       "\t<ol class=list-inline>\n",
       "\t\t<li>'associate\\'s degree'</li>\n",
       "\t\t<li>'bachelor\\'s degree'</li>\n",
       "\t\t<li>'high school'</li>\n",
       "\t\t<li>'master\\'s degree'</li>\n",
       "\t\t<li>'some college'</li>\n",
       "\t\t<li>'some high school'</li>\n",
       "\t</ol>\n",
       "</details>"
      ],
      "text/latex": [
       "master's degree\n",
       "\\emph{Levels}: \\begin{enumerate*}\n",
       "\\item 'associate\\textbackslash{}'s degree'\n",
       "\\item 'bachelor\\textbackslash{}'s degree'\n",
       "\\item 'high school'\n",
       "\\item 'master\\textbackslash{}'s degree'\n",
       "\\item 'some college'\n",
       "\\item 'some high school'\n",
       "\\end{enumerate*}\n"
      ],
      "text/markdown": [
       "master's degree\n",
       "**Levels**: 1. 'associate\\'s degree'\n",
       "2. 'bachelor\\'s degree'\n",
       "3. 'high school'\n",
       "4. 'master\\'s degree'\n",
       "5. 'some college'\n",
       "6. 'some high school'\n",
       "\n",
       "\n"
      ],
      "text/plain": [
       "[1] master's degree\n",
       "6 Levels: associate's degree bachelor's degree high school ... some high school"
      ]
     },
     "metadata": {},
     "output_type": "display_data"
    },
    {
     "data": {
      "text/html": [
       "none\n",
       "<details>\n",
       "\t<summary style=display:list-item;cursor:pointer>\n",
       "\t\t<strong>Levels</strong>:\n",
       "\t</summary>\n",
       "\t<ol class=list-inline>\n",
       "\t\t<li>'completed'</li>\n",
       "\t\t<li>'none'</li>\n",
       "\t</ol>\n",
       "</details>"
      ],
      "text/latex": [
       "none\n",
       "\\emph{Levels}: \\begin{enumerate*}\n",
       "\\item 'completed'\n",
       "\\item 'none'\n",
       "\\end{enumerate*}\n"
      ],
      "text/markdown": [
       "none\n",
       "**Levels**: 1. 'completed'\n",
       "2. 'none'\n",
       "\n",
       "\n"
      ],
      "text/plain": [
       "[1] none\n",
       "Levels: completed none"
      ]
     },
     "metadata": {},
     "output_type": "display_data"
    },
    {
     "data": {
      "text/html": [
       "female\n",
       "<details>\n",
       "\t<summary style=display:list-item;cursor:pointer>\n",
       "\t\t<strong>Levels</strong>:\n",
       "\t</summary>\n",
       "\t<ol class=list-inline>\n",
       "\t\t<li>'female'</li>\n",
       "\t\t<li>'male'</li>\n",
       "\t</ol>\n",
       "</details>"
      ],
      "text/latex": [
       "female\n",
       "\\emph{Levels}: \\begin{enumerate*}\n",
       "\\item 'female'\n",
       "\\item 'male'\n",
       "\\end{enumerate*}\n"
      ],
      "text/markdown": [
       "female\n",
       "**Levels**: 1. 'female'\n",
       "2. 'male'\n",
       "\n",
       "\n"
      ],
      "text/plain": [
       "[1] female\n",
       "Levels: female male"
      ]
     },
     "metadata": {},
     "output_type": "display_data"
    }
   ],
   "source": [
    "#Writing\n",
    "i_writemin <- which.min(writing_score)\n",
    "full$lunch[i_writemin]\n",
    "full$parental.level.of.education[i_writemin]\n",
    "full$test.preparation.course[i_writemin]\n",
    "full$gender[i_writemin]\n",
    "i_writemax <- which.max(writing_score)\n",
    "full$lunch[i_writemax]\n",
    "full$parental.level.of.education[i_writemax]\n",
    "full$test.preparation.course[i_writemax]\n",
    "full$gender[i_writemax]"
   ]
  },
  {
   "cell_type": "code",
   "execution_count": 10,
   "metadata": {
    "id": "-ABoZ06LxHS7"
   },
   "outputs": [
    {
     "data": {
      "text/html": [
       "free/reduced\n",
       "<details>\n",
       "\t<summary style=display:list-item;cursor:pointer>\n",
       "\t\t<strong>Levels</strong>:\n",
       "\t</summary>\n",
       "\t<ol class=list-inline>\n",
       "\t\t<li>'free/reduced'</li>\n",
       "\t\t<li>'standard'</li>\n",
       "\t</ol>\n",
       "</details>"
      ],
      "text/latex": [
       "free/reduced\n",
       "\\emph{Levels}: \\begin{enumerate*}\n",
       "\\item 'free/reduced'\n",
       "\\item 'standard'\n",
       "\\end{enumerate*}\n"
      ],
      "text/markdown": [
       "free/reduced\n",
       "**Levels**: 1. 'free/reduced'\n",
       "2. 'standard'\n",
       "\n",
       "\n"
      ],
      "text/plain": [
       "[1] free/reduced\n",
       "Levels: free/reduced standard"
      ]
     },
     "metadata": {},
     "output_type": "display_data"
    },
    {
     "data": {
      "text/html": [
       "some high school\n",
       "<details>\n",
       "\t<summary style=display:list-item;cursor:pointer>\n",
       "\t\t<strong>Levels</strong>:\n",
       "\t</summary>\n",
       "\t<ol class=list-inline>\n",
       "\t\t<li>'associate\\'s degree'</li>\n",
       "\t\t<li>'bachelor\\'s degree'</li>\n",
       "\t\t<li>'high school'</li>\n",
       "\t\t<li>'master\\'s degree'</li>\n",
       "\t\t<li>'some college'</li>\n",
       "\t\t<li>'some high school'</li>\n",
       "\t</ol>\n",
       "</details>"
      ],
      "text/latex": [
       "some high school\n",
       "\\emph{Levels}: \\begin{enumerate*}\n",
       "\\item 'associate\\textbackslash{}'s degree'\n",
       "\\item 'bachelor\\textbackslash{}'s degree'\n",
       "\\item 'high school'\n",
       "\\item 'master\\textbackslash{}'s degree'\n",
       "\\item 'some college'\n",
       "\\item 'some high school'\n",
       "\\end{enumerate*}\n"
      ],
      "text/markdown": [
       "some high school\n",
       "**Levels**: 1. 'associate\\'s degree'\n",
       "2. 'bachelor\\'s degree'\n",
       "3. 'high school'\n",
       "4. 'master\\'s degree'\n",
       "5. 'some college'\n",
       "6. 'some high school'\n",
       "\n",
       "\n"
      ],
      "text/plain": [
       "[1] some high school\n",
       "6 Levels: associate's degree bachelor's degree high school ... some high school"
      ]
     },
     "metadata": {},
     "output_type": "display_data"
    },
    {
     "data": {
      "text/html": [
       "none\n",
       "<details>\n",
       "\t<summary style=display:list-item;cursor:pointer>\n",
       "\t\t<strong>Levels</strong>:\n",
       "\t</summary>\n",
       "\t<ol class=list-inline>\n",
       "\t\t<li>'completed'</li>\n",
       "\t\t<li>'none'</li>\n",
       "\t</ol>\n",
       "</details>"
      ],
      "text/latex": [
       "none\n",
       "\\emph{Levels}: \\begin{enumerate*}\n",
       "\\item 'completed'\n",
       "\\item 'none'\n",
       "\\end{enumerate*}\n"
      ],
      "text/markdown": [
       "none\n",
       "**Levels**: 1. 'completed'\n",
       "2. 'none'\n",
       "\n",
       "\n"
      ],
      "text/plain": [
       "[1] none\n",
       "Levels: completed none"
      ]
     },
     "metadata": {},
     "output_type": "display_data"
    },
    {
     "data": {
      "text/html": [
       "female\n",
       "<details>\n",
       "\t<summary style=display:list-item;cursor:pointer>\n",
       "\t\t<strong>Levels</strong>:\n",
       "\t</summary>\n",
       "\t<ol class=list-inline>\n",
       "\t\t<li>'female'</li>\n",
       "\t\t<li>'male'</li>\n",
       "\t</ol>\n",
       "</details>"
      ],
      "text/latex": [
       "female\n",
       "\\emph{Levels}: \\begin{enumerate*}\n",
       "\\item 'female'\n",
       "\\item 'male'\n",
       "\\end{enumerate*}\n"
      ],
      "text/markdown": [
       "female\n",
       "**Levels**: 1. 'female'\n",
       "2. 'male'\n",
       "\n",
       "\n"
      ],
      "text/plain": [
       "[1] female\n",
       "Levels: female male"
      ]
     },
     "metadata": {},
     "output_type": "display_data"
    },
    {
     "data": {
      "text/html": [
       "standard\n",
       "<details>\n",
       "\t<summary style=display:list-item;cursor:pointer>\n",
       "\t\t<strong>Levels</strong>:\n",
       "\t</summary>\n",
       "\t<ol class=list-inline>\n",
       "\t\t<li>'free/reduced'</li>\n",
       "\t\t<li>'standard'</li>\n",
       "\t</ol>\n",
       "</details>"
      ],
      "text/latex": [
       "standard\n",
       "\\emph{Levels}: \\begin{enumerate*}\n",
       "\\item 'free/reduced'\n",
       "\\item 'standard'\n",
       "\\end{enumerate*}\n"
      ],
      "text/markdown": [
       "standard\n",
       "**Levels**: 1. 'free/reduced'\n",
       "2. 'standard'\n",
       "\n",
       "\n"
      ],
      "text/plain": [
       "[1] standard\n",
       "Levels: free/reduced standard"
      ]
     },
     "metadata": {},
     "output_type": "display_data"
    },
    {
     "data": {
      "text/html": [
       "bachelor's degree\n",
       "<details>\n",
       "\t<summary style=display:list-item;cursor:pointer>\n",
       "\t\t<strong>Levels</strong>:\n",
       "\t</summary>\n",
       "\t<ol class=list-inline>\n",
       "\t\t<li>'associate\\'s degree'</li>\n",
       "\t\t<li>'bachelor\\'s degree'</li>\n",
       "\t\t<li>'high school'</li>\n",
       "\t\t<li>'master\\'s degree'</li>\n",
       "\t\t<li>'some college'</li>\n",
       "\t\t<li>'some high school'</li>\n",
       "\t</ol>\n",
       "</details>"
      ],
      "text/latex": [
       "bachelor's degree\n",
       "\\emph{Levels}: \\begin{enumerate*}\n",
       "\\item 'associate\\textbackslash{}'s degree'\n",
       "\\item 'bachelor\\textbackslash{}'s degree'\n",
       "\\item 'high school'\n",
       "\\item 'master\\textbackslash{}'s degree'\n",
       "\\item 'some college'\n",
       "\\item 'some high school'\n",
       "\\end{enumerate*}\n"
      ],
      "text/markdown": [
       "bachelor's degree\n",
       "**Levels**: 1. 'associate\\'s degree'\n",
       "2. 'bachelor\\'s degree'\n",
       "3. 'high school'\n",
       "4. 'master\\'s degree'\n",
       "5. 'some college'\n",
       "6. 'some high school'\n",
       "\n",
       "\n"
      ],
      "text/plain": [
       "[1] bachelor's degree\n",
       "6 Levels: associate's degree bachelor's degree high school ... some high school"
      ]
     },
     "metadata": {},
     "output_type": "display_data"
    },
    {
     "data": {
      "text/html": [
       "none\n",
       "<details>\n",
       "\t<summary style=display:list-item;cursor:pointer>\n",
       "\t\t<strong>Levels</strong>:\n",
       "\t</summary>\n",
       "\t<ol class=list-inline>\n",
       "\t\t<li>'completed'</li>\n",
       "\t\t<li>'none'</li>\n",
       "\t</ol>\n",
       "</details>"
      ],
      "text/latex": [
       "none\n",
       "\\emph{Levels}: \\begin{enumerate*}\n",
       "\\item 'completed'\n",
       "\\item 'none'\n",
       "\\end{enumerate*}\n"
      ],
      "text/markdown": [
       "none\n",
       "**Levels**: 1. 'completed'\n",
       "2. 'none'\n",
       "\n",
       "\n"
      ],
      "text/plain": [
       "[1] none\n",
       "Levels: completed none"
      ]
     },
     "metadata": {},
     "output_type": "display_data"
    },
    {
     "data": {
      "text/html": [
       "female\n",
       "<details>\n",
       "\t<summary style=display:list-item;cursor:pointer>\n",
       "\t\t<strong>Levels</strong>:\n",
       "\t</summary>\n",
       "\t<ol class=list-inline>\n",
       "\t\t<li>'female'</li>\n",
       "\t\t<li>'male'</li>\n",
       "\t</ol>\n",
       "</details>"
      ],
      "text/latex": [
       "female\n",
       "\\emph{Levels}: \\begin{enumerate*}\n",
       "\\item 'female'\n",
       "\\item 'male'\n",
       "\\end{enumerate*}\n"
      ],
      "text/markdown": [
       "female\n",
       "**Levels**: 1. 'female'\n",
       "2. 'male'\n",
       "\n",
       "\n"
      ],
      "text/plain": [
       "[1] female\n",
       "Levels: female male"
      ]
     },
     "metadata": {},
     "output_type": "display_data"
    }
   ],
   "source": [
    "#Average for all exams\n",
    "i_examsmin <- which.min(all_exams)\n",
    "full2$lunch[i_examsmin]\n",
    "full2$parental.level.of.education[i_examsmin]\n",
    "full2$test.preparation.course[i_examsmin]\n",
    "full2$gender[i_examsmin]\n",
    "i_examsmax <- which.max(all_exams)\n",
    "full2$lunch[i_examsmax]\n",
    "full2$parental.level.of.education[i_examsmax]\n",
    "full2$test.preparation.course[i_examsmax]\n",
    "full2$gender[i_examsmax]"
   ]
  },
  {
   "cell_type": "markdown",
   "metadata": {
    "id": "fJyh_ga3xK7r"
   },
   "source": [
    "## Graph"
   ]
  },
  {
   "cell_type": "code",
   "execution_count": 11,
   "metadata": {
    "id": "Vz5vyizVxM18"
   },
   "outputs": [
    {
     "data": {
      "image/png": "[encoded data removed]",
      "text/plain": [
       "plot without title"
      ]
     },
     "metadata": {},
     "output_type": "display_data"
    },
    {
     "data": {
      "image/png": "[encoded data removed]",
      "text/plain": [
       "Plot with title \"Histogram of math_score\""
      ]
     },
     "metadata": {},
     "output_type": "display_data"
    },
    {
     "data": {
      "image/png": "[encoded data removed]",
      "text/plain": [
       "Plot with title \"Histogram of reading_score\""
      ]
     },
     "metadata": {},
     "output_type": "display_data"
    },
    {
     "data": {
      "image/png": "[encoded data removed]",
      "text/plain": [
       "Plot with title \"Histogram of writing_score\""
      ]
     },
     "metadata": {},
     "output_type": "display_data"
    },
    {
     "data": {
      "image/png": "[encoded data removed]",
      "text/plain": [
       "Plot with title \"Histogram of all_exams\""
      ]
     },
     "metadata": {},
     "output_type": "display_data"
    }
   ],
   "source": [
    "table(full$gender) %>% barplot(col = \"red\")\n",
    "hist(math_score, col = \"green\")\n",
    "hist(reading_score, col = \"orange\")\n",
    "hist(writing_score, col = \"blue\")\n",
    "hist(all_exams, col = \"purple\")\n"
   ]
  },
  {
   "cell_type": "markdown",
   "metadata": {
    "id": "z9wgd_phxYwW"
   },
   "source": [
    "All the histograms are left skewed."
   ]
  },
  {
   "cell_type": "markdown",
   "metadata": {
    "id": "IzqGwOZoxepK"
   },
   "source": [
    "## Comparing student's lunch situation with their math scores "
   ]
  },
  {
   "cell_type": "code",
   "execution_count": 12,
   "metadata": {
    "id": "QN6SzfnXxPQ_"
   },
   "outputs": [
    {
     "data": {
      "text/plain": [
       "   Min. 1st Qu.  Median    Mean 3rd Qu.    Max. \n",
       "   0.00   57.00   66.00   66.09   77.00  100.00 "
      ]
     },
     "metadata": {},
     "output_type": "display_data"
    },
    {
     "data": {
      "text/html": [
       "20"
      ],
      "text/latex": [
       "20"
      ],
      "text/markdown": [
       "20"
      ],
      "text/plain": [
       "[1] 20"
      ]
     },
     "metadata": {},
     "output_type": "display_data"
    },
    {
     "data": {
      "text/html": [
       "15.1630800960095"
      ],
      "text/latex": [
       "15.1630800960095"
      ],
      "text/markdown": [
       "15.1630800960095"
      ],
      "text/plain": [
       "[1] 15.16308"
      ]
     },
     "metadata": {},
     "output_type": "display_data"
    },
    {
     "data": {
      "text/plain": [
       "\n",
       "\tWelch Two Sample t-test\n",
       "\n",
       "data:  math_score by full2$lunch\n",
       "t = -11.484, df = 667.5, p-value < 2.2e-16\n",
       "alternative hypothesis: true difference in means is not equal to 0\n",
       "95 percent confidence interval:\n",
       " -13.01305  -9.21291\n",
       "sample estimates:\n",
       "mean in group free/reduced     mean in group standard \n",
       "                  58.92113                   70.03411 \n"
      ]
     },
     "metadata": {},
     "output_type": "display_data"
    },
    {
     "data": {
      "image/png": "[encoded data removed]",
      "text/plain": [
       "plot without title"
      ]
     },
     "metadata": {},
     "output_type": "display_data"
    }
   ],
   "source": [
    "ggplot(data = full) + \n",
    "  geom_boxplot(mapping = aes(x = factor(lunch), y = math_score, \n",
    "                             fill = factor(lunch)))\n",
    "summary(math_score)\n",
    "IQR(math_score)\n",
    "sd(math_score)\n",
    "t.test(math_score~full2$lunch)"
   ]
  },
  {
   "cell_type": "markdown",
   "metadata": {
    "id": "7K7Vc2bOxmy0"
   },
   "source": [
    "## Comparing student's lunch situation with their reading scores"
   ]
  },
  {
   "cell_type": "code",
   "execution_count": 13,
   "metadata": {
    "id": "OB-BeabQxqMK"
   },
   "outputs": [
    {
     "data": {
      "text/plain": [
       "   Min. 1st Qu.  Median    Mean 3rd Qu.    Max. \n",
       "  17.00   59.00   70.00   69.17   79.00  100.00 "
      ]
     },
     "metadata": {},
     "output_type": "display_data"
    },
    {
     "data": {
      "text/html": [
       "20"
      ],
      "text/latex": [
       "20"
      ],
      "text/markdown": [
       "20"
      ],
      "text/plain": [
       "[1] 20"
      ]
     },
     "metadata": {},
     "output_type": "display_data"
    },
    {
     "data": {
      "text/html": [
       "14.6001919372522"
      ],
      "text/latex": [
       "14.6001919372522"
      ],
      "text/markdown": [
       "14.6001919372522"
      ],
      "text/plain": [
       "[1] 14.60019"
      ]
     },
     "metadata": {},
     "output_type": "display_data"
    },
    {
     "data": {
      "text/plain": [
       "\n",
       "\tWelch Two Sample t-test\n",
       "\n",
       "data:  reading_score by full2$lunch\n",
       "t = -7.2926, df = 684.9, p-value = 8.422e-13\n",
       "alternative hypothesis: true difference in means is not equal to 0\n",
       "95 percent confidence interval:\n",
       " -8.885594 -5.115891\n",
       "sample estimates:\n",
       "mean in group free/reduced     mean in group standard \n",
       "                  64.65352                   71.65426 \n"
      ]
     },
     "metadata": {},
     "output_type": "display_data"
    },
    {
     "data": {
      "image/png": "[encoded data removed]",
      "text/plain": [
       "plot without title"
      ]
     },
     "metadata": {},
     "output_type": "display_data"
    }
   ],
   "source": [
    "ggplot(data = full) + \n",
    "  geom_boxplot(mapping = aes(x = factor(lunch), y = reading_score, \n",
    "                             fill = factor(lunch)))\n",
    "summary(reading_score)\n",
    "IQR(reading_score)\n",
    "sd(reading_score)\n",
    "t.test(reading_score~full2$lunch)"
   ]
  },
  {
   "cell_type": "markdown",
   "metadata": {
    "id": "ZLXTLbfpxt-t"
   },
   "source": [
    "## Comparing student's lunch situation with their writing scores"
   ]
  },
  {
   "cell_type": "code",
   "execution_count": 14,
   "metadata": {
    "id": "7hv1eUlcxveB"
   },
   "outputs": [
    {
     "data": {
      "text/plain": [
       "   Min. 1st Qu.  Median    Mean 3rd Qu.    Max. \n",
       "  10.00   57.75   69.00   68.05   79.00  100.00 "
      ]
     },
     "metadata": {},
     "output_type": "display_data"
    },
    {
     "data": {
      "text/html": [
       "21.25"
      ],
      "text/latex": [
       "21.25"
      ],
      "text/markdown": [
       "21.25"
      ],
      "text/plain": [
       "[1] 21.25"
      ]
     },
     "metadata": {},
     "output_type": "display_data"
    },
    {
     "data": {
      "text/html": [
       "15.1956570108697"
      ],
      "text/latex": [
       "15.1956570108697"
      ],
      "text/markdown": [
       "15.1956570108697"
      ],
      "text/plain": [
       "[1] 15.19566"
      ]
     },
     "metadata": {},
     "output_type": "display_data"
    },
    {
     "data": {
      "text/plain": [
       "\n",
       "\tWelch Two Sample t-test\n",
       "\n",
       "data:  writing_score by full2$lunch\n",
       "t = -7.8409, df = 685.25, p-value = 1.716e-14\n",
       "alternative hypothesis: true difference in means is not equal to 0\n",
       "95 percent confidence interval:\n",
       " -9.754100 -5.847342\n",
       "sample estimates:\n",
       "mean in group free/reduced     mean in group standard \n",
       "                  63.02254                   70.82326 \n"
      ]
     },
     "metadata": {},
     "output_type": "display_data"
    },
    {
     "data": {
      "image/png": "[encoded data removed]",
      "text/plain": [
       "plot without title"
      ]
     },
     "metadata": {},
     "output_type": "display_data"
    }
   ],
   "source": [
    "ggplot(data = full) + \n",
    "  geom_boxplot(mapping = aes(x = factor(lunch), y = writing_score, \n",
    "                             fill = factor(lunch)))\n",
    "summary(writing_score)\n",
    "IQR(writing_score)\n",
    "sd(writing_score)\n",
    "t.test(writing_score~full2$lunch)"
   ]
  },
  {
   "cell_type": "markdown",
   "metadata": {
    "id": "Jxs6BF5cx9Pf"
   },
   "source": [
    "## Comparing student's lunch situation with their all average exams scores"
   ]
  },
  {
   "cell_type": "code",
   "execution_count": 15,
   "metadata": {
    "id": "l86_g8bbx39y"
   },
   "outputs": [
    {
     "data": {
      "text/plain": [
       "   Min. 1st Qu.  Median    Mean 3rd Qu.    Max. \n",
       "   9.00   58.33   68.33   67.77   77.67  100.00 "
      ]
     },
     "metadata": {},
     "output_type": "display_data"
    },
    {
     "data": {
      "text/html": [
       "19.3333333333333"
      ],
      "text/latex": [
       "19.3333333333333"
      ],
      "text/markdown": [
       "19.3333333333333"
      ],
      "text/plain": [
       "[1] 19.33333"
      ]
     },
     "metadata": {},
     "output_type": "display_data"
    },
    {
     "data": {
      "text/html": [
       "14.2573259846691"
      ],
      "text/latex": [
       "14.2573259846691"
      ],
      "text/markdown": [
       "14.2573259846691"
      ],
      "text/plain": [
       "[1] 14.25733"
      ]
     },
     "metadata": {},
     "output_type": "display_data"
    },
    {
     "data": {
      "text/plain": [
       "\n",
       "\tWelch Two Sample t-test\n",
       "\n",
       "data:  all_exams by full2$lunch\n",
       "t = -9.3232, df = 674.61, p-value < 2.2e-16\n",
       "alternative hypothesis: true difference in means is not equal to 0\n",
       "95 percent confidence interval:\n",
       " -10.457360  -6.818936\n",
       "sample estimates:\n",
       "mean in group free/reduced     mean in group standard \n",
       "                  62.19906                   70.83721 \n"
      ]
     },
     "metadata": {},
     "output_type": "display_data"
    },
    {
     "data": {
      "image/png": "[encoded data removed]",
      "text/plain": [
       "plot without title"
      ]
     },
     "metadata": {},
     "output_type": "display_data"
    }
   ],
   "source": [
    "ggplot(data = full2) + \n",
    "  geom_boxplot(mapping = aes(x = factor(lunch), y = all_exams, \n",
    "                             fill = factor(lunch)))\n",
    "summary(all_exams)\n",
    "IQR(all_exams)\n",
    "sd(all_exams)\n",
    "t.test(all_exams~full2$lunch)"
   ]
  },
  {
   "cell_type": "markdown",
   "metadata": {
    "id": "oMWRNrEjyCC8"
   },
   "source": [
    "## Comparing student's test preparation course with their all average exams scores"
   ]
  },
  {
   "cell_type": "code",
   "execution_count": 16,
   "metadata": {
    "id": "nv0JGADFyDoq"
   },
   "outputs": [
    {
     "data": {
      "text/plain": [
       "   Min. 1st Qu.  Median    Mean 3rd Qu.    Max. \n",
       "   9.00   58.33   68.33   67.77   77.67  100.00 "
      ]
     },
     "metadata": {},
     "output_type": "display_data"
    },
    {
     "data": {
      "text/html": [
       "19.3333333333333"
      ],
      "text/latex": [
       "19.3333333333333"
      ],
      "text/markdown": [
       "19.3333333333333"
      ],
      "text/plain": [
       "[1] 19.33333"
      ]
     },
     "metadata": {},
     "output_type": "display_data"
    },
    {
     "data": {
      "text/html": [
       "14.2573259846691"
      ],
      "text/latex": [
       "14.2573259846691"
      ],
      "text/markdown": [
       "14.2573259846691"
      ],
      "text/plain": [
       "[1] 14.25733"
      ]
     },
     "metadata": {},
     "output_type": "display_data"
    },
    {
     "data": {
      "text/plain": [
       "\n",
       "\tWelch Two Sample t-test\n",
       "\n",
       "data:  all_exams by full2$test.preparation.course\n",
       "t = 8.5945, df = 791.84, p-value < 2.2e-16\n",
       "alternative hypothesis: true difference in means is not equal to 0\n",
       "95 percent confidence interval:\n",
       " 5.887734 9.373305\n",
       "sample estimates:\n",
       "mean in group completed      mean in group none \n",
       "               72.66946                65.03894 \n"
      ]
     },
     "metadata": {},
     "output_type": "display_data"
    },
    {
     "data": {
      "image/png": "[encoded data removed]",
      "text/plain": [
       "plot without title"
      ]
     },
     "metadata": {},
     "output_type": "display_data"
    }
   ],
   "source": [
    "ggplot(data = full2) + \n",
    "  geom_boxplot(mapping = aes(x = factor(test.preparation.course), y = all_exams, \n",
    "                             fill = factor(test.preparation.course)))\n",
    "summary(all_exams)\n",
    "IQR(all_exams)\n",
    "sd(all_exams)\n",
    "t.test(all_exams~full2$test.preparation.course)"
   ]
  },
  {
   "cell_type": "code",
   "execution_count": 17,
   "metadata": {
    "id": "5y05k9d0yJgh"
   },
   "outputs": [
    {
     "data": {
      "text/plain": [
       "   Min. 1st Qu.  Median    Mean 3rd Qu.    Max. \n",
       "   9.00   58.33   68.33   67.77   77.67  100.00 "
      ]
     },
     "metadata": {},
     "output_type": "display_data"
    },
    {
     "data": {
      "text/html": [
       "19.3333333333333"
      ],
      "text/latex": [
       "19.3333333333333"
      ],
      "text/markdown": [
       "19.3333333333333"
      ],
      "text/plain": [
       "[1] 19.33333"
      ]
     },
     "metadata": {},
     "output_type": "display_data"
    },
    {
     "data": {
      "text/html": [
       "14.2573259846691"
      ],
      "text/latex": [
       "14.2573259846691"
      ],
      "text/markdown": [
       "14.2573259846691"
      ],
      "text/plain": [
       "[1] 14.25733"
      ]
     },
     "metadata": {},
     "output_type": "display_data"
    },
    {
     "data": {
      "image/png": "[encoded data removed]",
      "text/plain": [
       "plot without title"
      ]
     },
     "metadata": {},
     "output_type": "display_data"
    }
   ],
   "source": [
    "ggplot(data = full2) + \n",
    "  geom_boxplot(mapping = aes(x = factor(parental.level.of.education), y = all_exams, \n",
    "                             fill = factor(parental.level.of.education)))\n",
    "summary(all_exams)\n",
    "IQR(all_exams)\n",
    "sd(all_exams)"
   ]
  },
  {
   "cell_type": "markdown",
   "metadata": {
    "id": "lIWS-kcgyLZx"
   },
   "source": [
    "Therefore, we reject the null hypothesis. We know that lunch situations and test preparation courses are correlates with student exams score. We aren't sure if the students' parents education correlate with the exams. \n"
   ]
  }
 ],
 "metadata": {
  "colab": {
   "collapsed_sections": [],
   "name": "Exam Performance.ipynb",
   "provenance": []
  },
  "kernelspec": {
   "display_name": "R",
   "language": "R",
   "name": "ir"
  },
  "language_info": {
   "codemirror_mode": "r",
   "file_extension": ".r",
   "mimetype": "text/x-r-source",
   "name": "R",
   "pygments_lexer": "r",
   "version": "3.6.1"
  }
 },
 "nbformat": 4,
 "nbformat_minor": 1
}
